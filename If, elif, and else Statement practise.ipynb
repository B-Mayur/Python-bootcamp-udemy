{
 "cells": [
  {
   "cell_type": "code",
   "execution_count": 4,
   "metadata": {
    "collapsed": false
   },
   "outputs": [
    {
     "name": "stdout",
     "output_type": "stream",
     "text": [
      "Good evening\n"
     ]
    }
   ],
   "source": [
    "time = 'evening'\n",
    "if time == 'morning':\n",
    "    print 'Good morning'\n",
    "elif time=='afternoon':\n",
    "    print 'Good afternoon'\n",
    "else:\n",
    "    print 'Good evening'"
   ]
  },
  {
   "cell_type": "code",
   "execution_count": null,
   "metadata": {
    "collapsed": true
   },
   "outputs": [],
   "source": []
  },
  {
   "cell_type": "code",
   "execution_count": null,
   "metadata": {
    "collapsed": true
   },
   "outputs": [],
   "source": []
  },
  {
   "cell_type": "code",
   "execution_count": 5,
   "metadata": {
    "collapsed": true
   },
   "outputs": [],
   "source": []
  },
  {
   "cell_type": "code",
   "execution_count": 8,
   "metadata": {
    "collapsed": false
   },
   "outputs": [
    {
     "name": "stdout",
     "output_type": "stream",
     "text": [
      "Mayur is offline.\n"
     ]
    }
   ],
   "source": [
    "status = 'offline'\n",
    "if status == 'online':\n",
    "    print 'Mayur is online.'\n",
    "else:\n",
    "    print 'Mayur is offline.'"
   ]
  },
  {
   "cell_type": "code",
   "execution_count": 9,
   "metadata": {
    "collapsed": false
   },
   "outputs": [
    {
     "name": "stdout",
     "output_type": "stream",
     "text": [
      "True gets here.\n"
     ]
    }
   ],
   "source": [
    "\n",
    "if True:\n",
    "    print 'True gets here.'\n",
    "else:\n",
    "    print 'False got here.'"
   ]
  },
  {
   "cell_type": "code",
   "execution_count": 10,
   "metadata": {
    "collapsed": false
   },
   "outputs": [
    {
     "name": "stdout",
     "output_type": "stream",
     "text": [
      "True got here.\n"
     ]
    }
   ],
   "source": [
    "if False:\n",
    "    print 'False gets here.'\n",
    "else:\n",
    "    print 'True got here.'"
   ]
  },
  {
   "cell_type": "code",
   "execution_count": 11,
   "metadata": {
    "collapsed": false
   },
   "outputs": [
    {
     "name": "stdout",
     "output_type": "stream",
     "text": [
      "Please put the cap back on.\n"
     ]
    }
   ],
   "source": [
    "bottle_cap = 'open'\n",
    "\n",
    "if bottle_cap == 'open':\n",
    "    print 'Please put the cap back on.'\n",
    "else:\n",
    "    print 'Thank you!'"
   ]
  },
  {
   "cell_type": "code",
   "execution_count": null,
   "metadata": {
    "collapsed": true
   },
   "outputs": [],
   "source": [
    "   "
   ]
  }
 ],
 "metadata": {
  "kernelspec": {
   "display_name": "Python [conda root]",
   "language": "python",
   "name": "conda-root-py"
  },
  "language_info": {
   "codemirror_mode": {
    "name": "ipython",
    "version": 2
   },
   "file_extension": ".py",
   "mimetype": "text/x-python",
   "name": "python",
   "nbconvert_exporter": "python",
   "pygments_lexer": "ipython2",
   "version": "2.7.12"
  }
 },
 "nbformat": 4,
 "nbformat_minor": 1
}
