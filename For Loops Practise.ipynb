{
 "cells": [
  {
   "cell_type": "markdown",
   "metadata": {},
   "source": [
    "## Tuple unpacking\n"
   ]
  },
  {
   "cell_type": "code",
   "execution_count": 1,
   "metadata": {
    "collapsed": true
   },
   "outputs": [],
   "source": [
    "# myList is a list of 2-tuples. 2-tuples are tuples with 2 elements in them.\n",
    "\n",
    "myList = [(1,2), (3,4), (5,6), (7,8), (9,10)]"
   ]
  },
  {
   "cell_type": "code",
   "execution_count": 4,
   "metadata": {
    "collapsed": false
   },
   "outputs": [
    {
     "name": "stdout",
     "output_type": "stream",
     "text": [
      "The regular way\n",
      "1\n",
      "3\n",
      "5\n",
      "7\n",
      "9\n",
      "The Tuple unpacking\n",
      "1\n",
      "3\n",
      "5\n",
      "7\n",
      "9\n"
     ]
    }
   ],
   "source": [
    "# Now I know the internal structre of Tuples within that list.\n",
    "# And I want to unpack those tuples to print second element of each tuples.\n",
    "# There are two ways to do this:\n",
    "# 1. The regular for loop nesting\n",
    "# 2. The tuples unpacking way.\n",
    "\n",
    "# Here's the first conventional way. It will print first element from each tuple.\n",
    "print 'The regular way'\n",
    "for tup in myList:\n",
    "    print tup[0]\n",
    "    \n",
    "print 'The Tuple unpacking'\n",
    "for (first,second) in myList:\n",
    "    print first\n",
    "    \n",
    "# Result is absolutely similar."
   ]
  },
  {
   "cell_type": "code",
   "execution_count": 5,
   "metadata": {
    "collapsed": true
   },
   "outputs": [],
   "source": [
    "# This \"Tuple unpacking\" technique is to be used only when you know the internal structure of \n",
    "# tuples within another container."
   ]
  },
  {
   "cell_type": "code",
   "execution_count": 6,
   "metadata": {
    "collapsed": true
   },
   "outputs": [],
   "source": [
    "# Lets try unpacking tuples within tuples.\n",
    "myTuple = (('a','b'),('c','d'), ('e','f'), ('g', 'h'), ('i','j'))"
   ]
  },
  {
   "cell_type": "code",
   "execution_count": 12,
   "metadata": {
    "collapsed": false
   },
   "outputs": [
    {
     "name": "stdout",
     "output_type": "stream",
     "text": [
      "The regular way:\n",
      "a c e g i \n",
      "The Tuple Unpacking:\n",
      "a c e g i\n"
     ]
    }
   ],
   "source": [
    "# The regular way\n",
    "print \"The regular way:\"\n",
    "for tup in myTuple:\n",
    "    print tup[0],\n",
    "    \n",
    "print \"\\nThe Tuple Unpacking:\"\n",
    "for (t1,t2) in myTuple:\n",
    "    print t1,\n",
    "    \n",
    "# Basically this is tuple unpacking all about."
   ]
  },
  {
   "cell_type": "code",
   "execution_count": 16,
   "metadata": {
    "collapsed": false
   },
   "outputs": [
    {
     "name": "stdout",
     "output_type": "stream",
     "text": [
      "3\n",
      "7\n",
      "11\n",
      "15\n",
      "19\n"
     ]
    }
   ],
   "source": [
    "for (t1,t2) in myList:\n",
    "    print t2+t1 # Prints the sum of tuple elements."
   ]
  },
  {
   "cell_type": "code",
   "execution_count": 17,
   "metadata": {
    "collapsed": true
   },
   "outputs": [],
   "source": [
    "myDict = {'Name':'Mayur Bhosale', 'Age':'25', 'Height':'165 cms', 'Weight':'55 Kgs.'}"
   ]
  },
  {
   "cell_type": "code",
   "execution_count": 23,
   "metadata": {
    "collapsed": false
   },
   "outputs": [
    {
     "name": "stdout",
     "output_type": "stream",
     "text": [
      "Age: 25\n",
      "Name: Mayur Bhosale\n",
      "Weight: 55 Kgs.\n",
      "Height: 165 cms\n"
     ]
    }
   ],
   "source": [
    "for key,value in myDict.items(): # .iteritems returns a list of tuples.\n",
    "    print key + ': ' + value"
   ]
  },
  {
   "cell_type": "code",
   "execution_count": 21,
   "metadata": {
    "collapsed": false
   },
   "outputs": [
    {
     "data": {
      "text/plain": [
       "<dictionary-itemiterator at 0x7f639c3b3f18>"
      ]
     },
     "execution_count": 21,
     "metadata": {},
     "output_type": "execute_result"
    }
   ],
   "source": [
    "myDict.iteritems()"
   ]
  }
 ],
 "metadata": {
  "anaconda-cloud": {},
  "kernelspec": {
   "display_name": "Python [conda root]",
   "language": "python",
   "name": "conda-root-py"
  },
  "language_info": {
   "codemirror_mode": {
    "name": "ipython",
    "version": 2
   },
   "file_extension": ".py",
   "mimetype": "text/x-python",
   "name": "python",
   "nbconvert_exporter": "python",
   "pygments_lexer": "ipython2",
   "version": "2.7.12"
  }
 },
 "nbformat": 4,
 "nbformat_minor": 1
}
